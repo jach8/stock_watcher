{
 "cells": [
  {
   "cell_type": "code",
   "execution_count": 1,
   "metadata": {},
   "outputs": [
    {
     "name": "stdout",
     "output_type": "stream",
     "text": [
      "['volume' 'EMA6D' 'EMA10D' 'EMA20D' 'EMA28D' 'EMA96D' 'EMA108D' 'ROC_6'\n",
      " 'RSI_6' 'RSI_6' 'ROC_10' 'RSI_10' 'RSI_10' 'ROC_20' 'RSI_20' 'RSI_20'\n",
      " 'ROC_28' 'RSI_28' 'RSI_28' 'STOCH_6' 'STOCH_6' 'STOCH_6' 'STOCH_6'\n",
      " 'STOCH_10' 'STOCH_10' 'STOCH_10' 'STOCH_10' 'STOCH_20' 'STOCH_20'\n",
      " 'STOCH_20' 'STOCH_20' 'STOCH_28' 'STOCH_28' 'STOCH_28' 'STOCH_28' 'RSI_6'\n",
      " 'RSI_6' 'RSI_10' 'RSI_10' 'RSI_20' 'RSI_20' 'RSI_28' 'RSI_28' 'ATR_6D'\n",
      " 'ATR_10D' 'ATR_20D' 'ATR_28D' 'BB_6D' 'BB_10D' 'BB_20D' 'BB_28D' 'KC_6D'\n",
      " 'KC_10D' 'KC_20D' 'KC_28D' 'ADX_6D' 'ADX_10D' 'ADX_20D' 'ADX_28D' 'ATH'\n",
      " 'ATL' 'highs_10D' 'highs_20D' 'lows_10D' 'lows_20D' 'reversion_10D'\n",
      " 'reversion_20D']\n"
     ]
    }
   ],
   "source": [
    "from pickle import load \n",
    "\n",
    "\n",
    "l = load(open('anomaly_model_spy.pkl', 'rb'))\n",
    "\n",
    "print(l)"
   ]
  },
  {
   "cell_type": "code",
   "execution_count": 4,
   "metadata": {},
   "outputs": [],
   "source": [
    "import joblib\n",
    "\n",
    "sd = joblib.load('anomaly_model_spy.pkl')"
   ]
  },
  {
   "cell_type": "code",
   "execution_count": 5,
   "metadata": {},
   "outputs": [
    {
     "data": {
      "text/plain": [
       "dict_keys(['scaler', 'models', 'decomp', 'feature_names', 'target_names', 'stock'])"
      ]
     },
     "execution_count": 5,
     "metadata": {},
     "output_type": "execute_result"
    }
   ],
   "source": [
    "sd.keys()"
   ]
  },
  {
   "cell_type": "code",
   "execution_count": null,
   "metadata": {},
   "outputs": [],
   "source": []
  }
 ],
 "metadata": {
  "kernelspec": {
   "display_name": "ds24",
   "language": "python",
   "name": "python3"
  },
  "language_info": {
   "codemirror_mode": {
    "name": "ipython",
    "version": 3
   },
   "file_extension": ".py",
   "mimetype": "text/x-python",
   "name": "python",
   "nbconvert_exporter": "python",
   "pygments_lexer": "ipython3",
   "version": "3.12.1"
  }
 },
 "nbformat": 4,
 "nbformat_minor": 2
}
