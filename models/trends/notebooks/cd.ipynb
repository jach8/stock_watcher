{
 "cells": [
  {
   "cell_type": "markdown",
   "id": "a0c36c44",
   "metadata": {},
   "source": [
    "### Suppose we have the following: \n",
    "\n",
    "$$x_i = \\text{Observed value at time } t$$\n",
    "\n",
    "$$\\mu = \\text{Mean of x if no change}$$\n",
    "\n",
    "$$S_t = max(0, S_{t-1} + (x_t - \\mu - C))$$\n",
    "\n",
    "$$S_t ≥ T$$\n",
    "\n",
    "Where T is a defined threshold and $S_t$ is the maximum value between 0 and the sum of the previous observed value at time $t -1$\n",
    "\n",
    "Thus, we need to define a threshold $T$ and a critical level $C$, we can check for an **Increase** in deviations from the mean. \n",
    "\n",
    "To check for an increase, $(x_t - \\mu - C)$; for a decrease $(\\mu - x_t - C)$, and both ways can be checked with $(|x_t - \\mu| - C)$\n",
    "The algorithim will go as follows: \n",
    "\n",
    "1. Calculate the mean of the daily averages\n",
    "2. Calculate $x_t - \\mu - C$\n",
    "3. Calculate $max(0, S_{t-1} + (x_t - \\mu - C))$ (Depending on which direction you wish to look for a change.)\n",
    "\n",
    "### Things to keep in mind about paramaters $C$ & $T$\n",
    "\n",
    "1. The larger the value for $C$, the harder it is for $S_t$ to get large; thus the model will be __Less__ sensitive to achieve. \n",
    "2. The smaller the value for $C$, the *easier* it is for $S_t$ to get large, thus the model will be __more__ sensitive to sudden changes. \n",
    "\n",
    "Thus its important for us to find an *optimal* parameter for $C$, where the change is not so easily or difficult to be detected. In other words we want the change to be detected no more then $M$ times, and no less than $N$ times. Lets first have a sanity check, and _manually_ test for different values of $C$:"
   ]
  },
  {
   "cell_type": "markdown",
   "id": "fecaea1d",
   "metadata": {},
   "source": [
    "### Change point detection is aimed at identifying shifts or changes in a time-series. \n",
    "\n"
   ]
  },
  {
   "cell_type": "code",
   "execution_count": 1,
   "id": "3391a608",
   "metadata": {},
   "outputs": [],
   "source": [
    "import pandas as pd \n",
    "import numpy as np \n",
    "from scipy.optimize import curve_fit \n",
    "import matplotlib.pyplot as plt"
   ]
  },
  {
   "cell_type": "code",
   "execution_count": 74,
   "id": "abf0df4a",
   "metadata": {},
   "outputs": [
    {
     "name": "stderr",
     "output_type": "stream",
     "text": [
      "2025-04-25 20:55:08,795 - bin.options.optgd.db_connect - INFO - Options DB Initialized\n",
      "2025-04-25 20:55:08,796 - bin.options.optgd.db_connect - WARNING - You currently have 8 connections open.\n",
      "2025-04-25 20:55:08,798 - INFO - PriceDB Initialized successfully at 2025-04-25 20:55:08.798746\n",
      "2025-04-25 20:55:08,798 - bin.price.db_connect - INFO - PriceDB Initialized successfully at 2025-04-25 20:55:08.798746\n",
      "2025-04-25 20:55:08,801 - INFO - Established 3 database connections\n",
      "2025-04-25 20:55:08,801 - bin.price.db_connect - INFO - Established 3 database connections\n",
      "2025-04-25 20:55:08,857 - bin.alerts.options_alerts - INFO - Notifications instance initialized.\n"
     ]
    }
   ],
   "source": [
    "import sys \n",
    "sys.path.append('../../../')\n",
    "from main import Manager \n",
    "m = Manager('../../../')"
   ]
  },
  {
   "cell_type": "code",
   "execution_count": null,
   "id": "4b555388",
   "metadata": {},
   "outputs": [],
   "source": [
    "### Change Point Model ###\n",
    "from change_detection import ChangePointDetector\n",
    "\n",
    "d = m.Pricedb.ohlc('amzn')['Close']\n",
    "df = d.copy()\n",
    "detector = ChangePointDetector(df, scale = True, window_size = 90)\n",
    "best_params, best_result = detector.optimize_parameters(\n",
    "    sensitivity_range=(0.05, 0.99, 0.05),\n",
    "    threshold_range=(0.1, 2.0, 0.1), \n",
    "    min_triggers = 5, \n",
    "    max_triggers = 20\n",
    ")\n",
    "best_params"
   ]
  },
  {
   "cell_type": "code",
   "execution_count": null,
   "id": "8a2ceec0",
   "metadata": {},
   "outputs": [],
   "source": [
    "best_result['Signal'].value_counts()"
   ]
  },
  {
   "cell_type": "code",
   "execution_count": 11,
   "id": "a80f0486",
   "metadata": {},
   "outputs": [],
   "source": [
    "import changefinder as cf \n"
   ]
  }
 ],
 "metadata": {
  "kernelspec": {
   "display_name": "ds24",
   "language": "python",
   "name": "python3"
  },
  "language_info": {
   "codemirror_mode": {
    "name": "ipython",
    "version": 3
   },
   "file_extension": ".py",
   "mimetype": "text/x-python",
   "name": "python",
   "nbconvert_exporter": "python",
   "pygments_lexer": "ipython3",
   "version": "3.12.1"
  }
 },
 "nbformat": 4,
 "nbformat_minor": 5
}
