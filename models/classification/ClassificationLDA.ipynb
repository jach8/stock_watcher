{
 "cells": [
  {
   "cell_type": "code",
   "execution_count": 1,
   "id": "f3e16d7a",
   "metadata": {},
   "outputs": [],
   "source": [
    "import pandas as pd\n",
    "import numpy as np\n",
    "import matplotlib.pyplot as plt\n",
    "from clda import ClassificationModel"
   ]
  },
  {
   "cell_type": "code",
   "execution_count": 2,
   "id": "d06bcdd6",
   "metadata": {},
   "outputs": [],
   "source": [
    "# Example usage with synthetic data\n",
    "from sklearn.datasets import make_classification\n",
    "\n",
    "# Generate synthetic dataset\n",
    "X, y = make_classification(\n",
    "    n_samples=1000,\n",
    "    n_features=20,\n",
    "    n_informative=15,\n",
    "    n_redundant=5,\n",
    "    random_state=0,\n",
    "    n_classes=2\n",
    ")\n",
    "\n",
    "\n",
    "X = pd.DataFrame(X, columns=[f'feature_{i}' for i in range(20)])\n",
    "X_new = X.tail(2)\n",
    "\n",
    "X = X.iloc[:-2]\n",
    "y = pd.Series(y, name='target')\n",
    "y = y.iloc[:-2]"
   ]
  },
  {
   "cell_type": "code",
   "execution_count": 3,
   "id": "b37215aa",
   "metadata": {},
   "outputs": [
    {
     "name": "stderr",
     "output_type": "stream",
     "text": [
      "2025-05-03 15:12:01,810 - INFO - ClassificationModel initialized with X shape: (998, 20)\n",
      "2025-05-03 15:12:01,810 - INFO - Starting data preprocessing\n",
      "2025-05-03 15:12:01,820 - INFO - PCA data preparation completed with 3 components\n",
      "2025-05-03 15:12:01,829 - INFO - Data preprocessing completed. Training set shape: (698, 20)\n",
      "2025-05-03 15:12:01,849 - INFO - Evaluating LDA\n",
      "2025-05-03 15:12:01,872 - INFO - LDA evaluation completed. Accuracy: 0.683\n",
      "/Users/jerald/opt/miniconda3/envs/ds24/lib/python3.12/site-packages/sklearn/discriminant_analysis.py:935: UserWarning: Variables are collinear\n",
      "  warnings.warn(\"Variables are collinear\")\n",
      "2025-05-03 15:12:01,878 - INFO - Evaluating QDA\n",
      "2025-05-03 15:12:01,888 - INFO - QDA evaluation completed. Accuracy: 0.863\n",
      "2025-05-03 15:12:01,890 - INFO - Evaluating Naive Bayes\n",
      "2025-05-03 15:12:01,895 - INFO - Naive Bayes evaluation completed. Accuracy: 0.757\n",
      "2025-05-03 15:12:02,402 - INFO - Best KNN neighbors: 8\n",
      "2025-05-03 15:12:02,403 - INFO - Evaluating KNN\n",
      "2025-05-03 15:12:02,410 - INFO - KNN evaluation completed. Accuracy: 0.917\n",
      "2025-05-03 15:12:02,635 - INFO - Best PCA KNN neighbors: 7\n",
      "2025-05-03 15:12:02,636 - INFO - Evaluating PCA KNN\n",
      "2025-05-03 15:12:02,644 - INFO - PCA KNN evaluation completed. Accuracy: 0.717\n",
      "2025-05-03 15:12:02,796 - INFO - Evaluating Logistic Regression\n",
      "2025-05-03 15:12:02,805 - INFO - Logistic Regression evaluation completed. Accuracy: 0.693\n",
      "2025-05-03 15:12:03,247 - INFO - Evaluating Neural Network\n",
      "2025-05-03 15:12:03,250 - INFO - Neural Network evaluation completed. Accuracy: 0.870\n",
      "2025-05-03 15:12:03,250 - INFO - All models trained successfully\n"
     ]
    },
    {
     "name": "stdout",
     "output_type": "stream",
     "text": [
      "\n",
      "Model Performance Results:\n",
      "                     Accuracy Precision Sensitivity Specificity\n",
      "LDA                  0.683333  0.678082    0.673469     0.69281\n",
      "QDA                  0.863333  0.815476    0.931973    0.797386\n",
      "Naive Bayes          0.756667      0.75    0.755102     0.75817\n",
      "KNN                  0.916667  0.935714    0.891156    0.941176\n",
      "PCA KNN              0.716667  0.703947    0.727891    0.705882\n",
      "Logistic Regression  0.693333  0.684564    0.693878     0.69281\n",
      "Neural Network           0.87  0.855263    0.884354    0.856209\n"
     ]
    }
   ],
   "source": [
    "# Initialize and run the model\n",
    "model = ClassificationModel(\n",
    "    X=X,\n",
    "    y=y,\n",
    "    numerical_cols=X.columns.tolist(),\n",
    ")\n",
    "model.preprocess_data()\n",
    "model.train_models()\n",
    "\n",
    "# Display results\n",
    "results = model.get_results()\n",
    "print(\"\\nModel Performance Results:\")\n",
    "print(results)"
   ]
  },
  {
   "cell_type": "code",
   "execution_count": 5,
   "id": "4ba9c1b9",
   "metadata": {},
   "outputs": [
    {
     "name": "stderr",
     "output_type": "stream",
     "text": [
      "2025-05-03 15:12:07,027 - INFO - Predicting on new data with shape: (2, 20)\n",
      "/Users/jerald/opt/miniconda3/envs/ds24/lib/python3.12/site-packages/sklearn/base.py:464: UserWarning: X does not have valid feature names, but KNeighborsClassifier was fitted with feature names\n",
      "  warnings.warn(\n",
      "2025-05-03 15:12:07,046 - INFO - Predictions generated for 2 samples\n"
     ]
    },
    {
     "data": {
      "text/html": [
       "<div>\n",
       "<style scoped>\n",
       "    .dataframe tbody tr th:only-of-type {\n",
       "        vertical-align: middle;\n",
       "    }\n",
       "\n",
       "    .dataframe tbody tr th {\n",
       "        vertical-align: top;\n",
       "    }\n",
       "\n",
       "    .dataframe thead th {\n",
       "        text-align: right;\n",
       "    }\n",
       "</style>\n",
       "<table border=\"1\" class=\"dataframe\">\n",
       "  <thead>\n",
       "    <tr style=\"text-align: right;\">\n",
       "      <th></th>\n",
       "      <th>LDA</th>\n",
       "      <th>QDA</th>\n",
       "      <th>Naive Bayes</th>\n",
       "      <th>KNN</th>\n",
       "      <th>PCA KNN</th>\n",
       "      <th>Logistic Regression</th>\n",
       "      <th>Neural Network</th>\n",
       "    </tr>\n",
       "  </thead>\n",
       "  <tbody>\n",
       "    <tr>\n",
       "      <th>0</th>\n",
       "      <td>1</td>\n",
       "      <td>1</td>\n",
       "      <td>1</td>\n",
       "      <td>1</td>\n",
       "      <td>1</td>\n",
       "      <td>1</td>\n",
       "      <td>1</td>\n",
       "    </tr>\n",
       "    <tr>\n",
       "      <th>1</th>\n",
       "      <td>0</td>\n",
       "      <td>1</td>\n",
       "      <td>1</td>\n",
       "      <td>1</td>\n",
       "      <td>1</td>\n",
       "      <td>0</td>\n",
       "      <td>1</td>\n",
       "    </tr>\n",
       "  </tbody>\n",
       "</table>\n",
       "</div>"
      ],
      "text/plain": [
       "   LDA  QDA  Naive Bayes  KNN  PCA KNN  Logistic Regression  Neural Network\n",
       "0    1    1            1    1        1                    1               1\n",
       "1    0    1            1    1        1                    0               1"
      ]
     },
     "execution_count": 5,
     "metadata": {},
     "output_type": "execute_result"
    }
   ],
   "source": [
    "model.predict_new_data(X_new)"
   ]
  },
  {
   "cell_type": "code",
   "execution_count": null,
   "id": "71c45014",
   "metadata": {},
   "outputs": [],
   "source": []
  },
  {
   "cell_type": "code",
   "execution_count": null,
   "id": "b4e5fb5c",
   "metadata": {},
   "outputs": [],
   "source": []
  }
 ],
 "metadata": {
  "kernelspec": {
   "display_name": "ds24",
   "language": "python",
   "name": "python3"
  },
  "language_info": {
   "codemirror_mode": {
    "name": "ipython",
    "version": 3
   },
   "file_extension": ".py",
   "mimetype": "text/x-python",
   "name": "python",
   "nbconvert_exporter": "python",
   "pygments_lexer": "ipython3",
   "version": "3.12.1"
  }
 },
 "nbformat": 4,
 "nbformat_minor": 5
}
