{
 "cells": [
  {
   "cell_type": "code",
   "execution_count": 1,
   "id": "f3e16d7a",
   "metadata": {},
   "outputs": [],
   "source": [
    "import pandas as pd\n",
    "import numpy as np\n",
    "import matplotlib.pyplot as plt\n",
    "from clda import ClassificationModel"
   ]
  },
  {
   "cell_type": "code",
   "execution_count": 2,
   "id": "71c45014",
   "metadata": {},
   "outputs": [
    {
     "name": "stderr",
     "output_type": "stream",
     "text": [
      "2025-05-03 15:43:03,199 - bin.options.optgd.db_connect - INFO - Options DB Initialized\n",
      "2025-05-03 15:43:03,200 - bin.options.optgd.db_connect - WARNING - You currently have 8 connections open.\n",
      "2025-05-03 15:43:03,201 - INFO - PriceDB Initialized successfully at 2025-05-03 15:43:03.201294\n",
      "2025-05-03 15:43:03,201 - bin.price.db_connect - INFO - PriceDB Initialized successfully at 2025-05-03 15:43:03.201294\n",
      "2025-05-03 15:43:03,201 - INFO - Established 3 database connections\n",
      "2025-05-03 15:43:03,201 - bin.price.db_connect - INFO - Established 3 database connections\n",
      "2025-05-03 15:43:03,392 - bin.alerts.options_alerts - INFO - Notifications instance initialized.\n"
     ]
    }
   ],
   "source": [
    "import sys \n",
    "\n",
    "sys.path.append('../../../')\n",
    "\n",
    "from bin.main import get_path \n",
    "from main import Manager \n",
    "\n",
    "\n",
    "m = Manager(get_path('../../../'))"
   ]
  },
  {
   "cell_type": "code",
   "execution_count": 3,
   "id": "b4e5fb5c",
   "metadata": {},
   "outputs": [],
   "source": [
    "data = m.Pricedb.model_preparation('spy', daily = True, start_date = \"2022-12-31\")"
   ]
  },
  {
   "cell_type": "code",
   "execution_count": 21,
   "id": "455307a2",
   "metadata": {},
   "outputs": [
    {
     "name": "stdout",
     "output_type": "stream",
     "text": [
      "(553, 43) (553,) (1, 43)\n"
     ]
    }
   ],
   "source": [
    "X = data['X']\n",
    "y = data['y']\n",
    "y = pd.Series(np.where(y > 0, 1, 0), name='target', index = X.index)\n",
    "X_new = data['test_data'].to_frame().T\n",
    "print(X.shape, y.shape, X_new.shape)"
   ]
  },
  {
   "cell_type": "code",
   "execution_count": 26,
   "id": "e2086417",
   "metadata": {},
   "outputs": [
    {
     "name": "stderr",
     "output_type": "stream",
     "text": [
      "2025-05-03 15:47:40,727 - clda - INFO - ClassificationModel initialized with X shape: (553, 43)\n"
     ]
    }
   ],
   "source": [
    "# Initialize and run the model\n",
    "model = ClassificationModel(\n",
    "    X=X,\n",
    "    y=y,\n",
    "    numerical_cols=X.columns.tolist(),\n",
    "    verbose = 0\n",
    ")"
   ]
  },
  {
   "cell_type": "code",
   "execution_count": 27,
   "id": "d6031f48",
   "metadata": {},
   "outputs": [
    {
     "name": "stderr",
     "output_type": "stream",
     "text": [
      "2025-05-03 15:47:42,683 - clda - INFO - Starting data preprocessing\n",
      "2025-05-03 15:47:42,757 - clda - INFO - PCA data preparation completed with 3 components\n",
      "2025-05-03 15:47:42,758 - clda - INFO - Data preprocessing completed. Training set shape: (387, 43)\n",
      "2025-05-03 15:47:42,762 - clda - INFO - Evaluating LDA\n",
      "2025-05-03 15:47:42,774 - clda - INFO - LDA evaluation completed. Accuracy: 0.560\n",
      "2025-05-03 15:47:42,806 - clda - INFO - Evaluating QDA\n",
      "2025-05-03 15:47:42,820 - clda - INFO - QDA evaluation completed. Accuracy: 0.651\n",
      "2025-05-03 15:47:42,825 - clda - INFO - Evaluating Naive Bayes\n",
      "2025-05-03 15:47:42,842 - clda - INFO - Naive Bayes evaluation completed. Accuracy: 0.584\n",
      "2025-05-03 15:47:43,262 - clda - INFO - Best KNN neighbors: 3\n",
      "2025-05-03 15:47:43,262 - clda - INFO - Evaluating KNN\n",
      "2025-05-03 15:47:43,270 - clda - INFO - KNN evaluation completed. Accuracy: 0.536\n",
      "2025-05-03 15:47:43,469 - clda - INFO - Best PCA KNN neighbors: 9\n",
      "2025-05-03 15:47:43,470 - clda - INFO - Evaluating PCA KNN\n",
      "2025-05-03 15:47:43,477 - clda - INFO - PCA KNN evaluation completed. Accuracy: 0.512\n",
      "2025-05-03 15:47:44,197 - clda - INFO - Evaluating Logistic Regression\n",
      "2025-05-03 15:47:44,206 - clda - INFO - Logistic Regression evaluation completed. Accuracy: 0.560\n",
      "2025-05-03 15:47:45,112 - clda - INFO - Evaluating Neural Network\n",
      "2025-05-03 15:47:45,115 - clda - INFO - Neural Network evaluation completed. Accuracy: 0.512\n",
      "2025-05-03 15:47:45,115 - clda - INFO - All models trained successfully\n"
     ]
    }
   ],
   "source": [
    "model.preprocess_data()\n",
    "model.train_models()\n"
   ]
  },
  {
   "cell_type": "code",
   "execution_count": 28,
   "id": "583e877a",
   "metadata": {},
   "outputs": [
    {
     "name": "stdout",
     "output_type": "stream",
     "text": [
      "\n",
      "Model Performance Results:\n",
      "                     Accuracy Precision Sensitivity Specificity\n",
      "LDA                  0.560241  0.690722    0.609091    0.464286\n",
      "QDA                  0.650602  0.720339    0.772727    0.410714\n",
      "Naive Bayes          0.584337  0.699029    0.654545    0.446429\n",
      "KNN                  0.536145  0.681319    0.563636    0.482143\n",
      "PCA KNN              0.512048  0.652632    0.563636    0.410714\n",
      "Logistic Regression  0.560241  0.690722    0.609091    0.464286\n",
      "Neural Network       0.512048  0.662921    0.536364    0.464286\n"
     ]
    }
   ],
   "source": [
    "# Display results\n",
    "results = model.get_results()\n",
    "print(\"\\nModel Performance Results:\")\n",
    "print(results)\n"
   ]
  },
  {
   "cell_type": "code",
   "execution_count": 29,
   "id": "58d8726e",
   "metadata": {},
   "outputs": [
    {
     "name": "stderr",
     "output_type": "stream",
     "text": [
      "2025-05-03 15:47:47,876 - clda - INFO - Predicting on new data with shape: (1, 43)\n",
      "2025-05-03 15:47:47,896 - clda - INFO - Predictions generated for 1 samples\n"
     ]
    },
    {
     "data": {
      "text/html": [
       "<div>\n",
       "<style scoped>\n",
       "    .dataframe tbody tr th:only-of-type {\n",
       "        vertical-align: middle;\n",
       "    }\n",
       "\n",
       "    .dataframe tbody tr th {\n",
       "        vertical-align: top;\n",
       "    }\n",
       "\n",
       "    .dataframe thead th {\n",
       "        text-align: right;\n",
       "    }\n",
       "</style>\n",
       "<table border=\"1\" class=\"dataframe\">\n",
       "  <thead>\n",
       "    <tr style=\"text-align: right;\">\n",
       "      <th></th>\n",
       "      <th>LDA</th>\n",
       "      <th>QDA</th>\n",
       "      <th>Naive Bayes</th>\n",
       "      <th>KNN</th>\n",
       "      <th>PCA KNN</th>\n",
       "      <th>Logistic Regression</th>\n",
       "      <th>Neural Network</th>\n",
       "    </tr>\n",
       "  </thead>\n",
       "  <tbody>\n",
       "    <tr>\n",
       "      <th>0</th>\n",
       "      <td>1</td>\n",
       "      <td>1</td>\n",
       "      <td>1</td>\n",
       "      <td>1</td>\n",
       "      <td>1</td>\n",
       "      <td>1</td>\n",
       "      <td>1</td>\n",
       "    </tr>\n",
       "  </tbody>\n",
       "</table>\n",
       "</div>"
      ],
      "text/plain": [
       "   LDA  QDA  Naive Bayes  KNN  PCA KNN  Logistic Regression  Neural Network\n",
       "0    1    1            1    1        1                    1               1"
      ]
     },
     "execution_count": 29,
     "metadata": {},
     "output_type": "execute_result"
    }
   ],
   "source": [
    "model.predict_new_data(X_new)"
   ]
  },
  {
   "cell_type": "code",
   "execution_count": null,
   "id": "a727883e",
   "metadata": {},
   "outputs": [
    {
     "data": {
      "text/plain": [
       "array([1, 1, 1, 1, 1, 1, 1, 1, 1, 1, 1, 1, 1, 1, 1, 1, 1, 1, 1, 1, 1, 1,\n",
       "       1, 1, 1, 1, 1, 1, 1, 1, 1, 1, 1, 1, 1, 1, 1, 1, 1, 1, 1, 1, 1, 1,\n",
       "       1, 1, 1, 1, 1, 1, 1, 1, 1, 1, 1, 1, 1, 1, 1, 1, 1, 1, 1, 1, 1, 1,\n",
       "       1, 1, 1, 1, 1, 1, 1, 1, 1, 1, 1, 1, 1, 1, 1, 1, 1, 1, 1, 1, 1, 1,\n",
       "       1, 1, 1, 1, 1, 1, 1, 1, 1, 1, 1, 1, 1, 1, 1, 1, 1, 1, 1, 1, 1, 1,\n",
       "       1, 1, 1, 1, 1, 1, 1, 1, 1, 1, 1, 1, 1, 1, 1, 1, 1, 1, 1, 1, 1, 1,\n",
       "       1, 1, 1, 1, 1, 1, 1, 1, 1, 1, 1, 1, 1, 1, 1, 1, 1, 1, 1, 1, 1, 1,\n",
       "       1, 1, 1, 1, 1, 1, 1, 1, 1, 1, 1, 1, 1, 1, 1, 1, 1, 1, 1, 1, 1, 1,\n",
       "       1, 1, 1, 1, 1, 1, 1, 1, 1, 1, 1, 1, 1, 1, 1, 1, 1, 1, 1, 1, 1, 1,\n",
       "       1, 1, 1, 1, 1, 1, 1, 1, 1, 1, 1, 1, 1, 1, 1, 1, 1, 1, 1, 1, 1, 1,\n",
       "       1, 1, 1, 1, 1, 1, 1, 1, 1, 1, 1, 1, 1, 1, 1, 1, 1, 1, 1, 1, 1, 1,\n",
       "       1, 1, 1, 1, 1, 1, 1, 1, 1, 1, 1, 1, 1, 1, 1, 1, 1, 1, 1, 1, 1, 1,\n",
       "       1, 1, 1, 1, 1, 1, 1, 1, 1, 1, 1, 1, 1, 1, 1, 1, 1, 1, 1, 1, 1, 1,\n",
       "       1, 1, 1, 1, 1, 1, 1, 1, 1, 1, 1, 1, 1, 1, 1, 1, 1, 1, 1, 1, 1, 1,\n",
       "       1, 1, 1, 1, 1, 1, 1, 1, 1, 1, 1, 1, 1, 1, 1, 1, 1, 1, 1, 1, 1, 1,\n",
       "       1, 1, 1, 1, 1, 1, 1, 1, 1, 1, 1, 1, 1, 1, 1, 1, 1, 1, 1, 1, 1, 1,\n",
       "       1, 1, 1, 1, 1, 1, 1, 1, 1, 1, 1, 1, 1, 1, 1, 1, 1, 1, 1, 1, 1, 1,\n",
       "       1, 1, 1, 1, 1, 1, 1, 1, 1, 1, 1, 1, 1, 1, 1, 1, 1, 1, 1, 1, 1, 1,\n",
       "       1, 1, 1, 1, 1, 1, 1, 1, 1, 1, 1, 1, 1, 1, 1, 1, 1, 1, 1, 1, 1, 1,\n",
       "       1, 1, 1, 1, 1, 1, 1, 1, 1, 1, 1, 1, 1, 1, 1, 1, 1, 1, 1, 1, 1, 1,\n",
       "       1, 1, 1, 1, 1, 1, 1, 1, 1, 1, 1, 1, 1, 1, 1, 1, 1, 1, 1, 1, 1, 1,\n",
       "       1, 1, 1, 1, 1, 1, 1, 1, 1, 1, 1, 1, 1, 1, 1, 1, 1, 1, 1, 1, 1, 1,\n",
       "       1, 1, 1, 1, 1, 1, 1, 1, 1, 1, 1, 1, 1, 1, 1, 1, 1, 1, 1, 1, 1, 1,\n",
       "       1, 1, 1, 1, 1, 1, 1, 1, 1, 1, 1, 1, 1, 1, 1, 1, 1, 1, 1, 1, 1, 1,\n",
       "       1, 1, 1, 1, 1, 1, 1, 1, 1, 1, 1, 1, 1, 1, 1, 1, 1, 1, 1, 1, 1, 1,\n",
       "       1, 1, 1])"
      ]
     },
     "execution_count": 31,
     "metadata": {},
     "output_type": "execute_result"
    }
   ],
   "source": [
    "model.models['LDA'].predict(X)"
   ]
  },
  {
   "cell_type": "code",
   "execution_count": null,
   "id": "3e364590",
   "metadata": {},
   "outputs": [],
   "source": []
  }
 ],
 "metadata": {
  "kernelspec": {
   "display_name": "ds24",
   "language": "python",
   "name": "python3"
  },
  "language_info": {
   "codemirror_mode": {
    "name": "ipython",
    "version": 3
   },
   "file_extension": ".py",
   "mimetype": "text/x-python",
   "name": "python",
   "nbconvert_exporter": "python",
   "pygments_lexer": "ipython3",
   "version": "3.12.1"
  }
 },
 "nbformat": 4,
 "nbformat_minor": 5
}
