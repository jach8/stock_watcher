{
 "cells": [
  {
   "cell_type": "code",
   "execution_count": 1,
   "id": "f3e16d7a",
   "metadata": {},
   "outputs": [],
   "source": [
    "import pandas as pd\n",
    "import numpy as np\n",
    "import matplotlib.pyplot as plt\n",
    "from clda import ClassificationModel"
   ]
  },
  {
   "cell_type": "code",
   "execution_count": 12,
   "id": "71c45014",
   "metadata": {},
   "outputs": [
    {
     "name": "stderr",
     "output_type": "stream",
     "text": [
      "2025-05-03 16:43:21,221 - bin.options.optgd.db_connect - INFO - Options DB Initialized\n"
     ]
    },
    {
     "name": "stderr",
     "output_type": "stream",
     "text": [
      "2025-05-03 16:43:21,224 - bin.options.optgd.db_connect - WARNING - You currently have 8 connections open.\n",
      "2025-05-03 16:43:21,294 - INFO - PriceDB Initialized successfully at 2025-05-03 16:43:21.291777\n",
      "2025-05-03 16:43:21,294 - bin.price.db_connect - INFO - PriceDB Initialized successfully at 2025-05-03 16:43:21.291777\n",
      "2025-05-03 16:43:21,365 - INFO - Established 3 database connections\n",
      "2025-05-03 16:43:21,365 - bin.price.db_connect - INFO - Established 3 database connections\n",
      "2025-05-03 16:43:21,780 - bin.alerts.options_alerts - INFO - Notifications instance initialized.\n"
     ]
    }
   ],
   "source": [
    "import sys \n",
    "\n",
    "sys.path.append('../../../')\n",
    "\n",
    "from bin.main import get_path \n",
    "from main import Manager \n",
    "from bin.utils.tools import encode_orders\n",
    "\n",
    "m = Manager(get_path('../../../'))"
   ]
  },
  {
   "cell_type": "code",
   "execution_count": 13,
   "id": "b4e5fb5c",
   "metadata": {},
   "outputs": [],
   "source": [
    "data = m.Pricedb.model_preparation('spy', daily = True, start_date = \"2022-12-31\")"
   ]
  },
  {
   "cell_type": "code",
   "execution_count": 14,
   "id": "455307a2",
   "metadata": {},
   "outputs": [
    {
     "name": "stdout",
     "output_type": "stream",
     "text": [
      "(553, 43) (553,) (1, 43)\n"
     ]
    }
   ],
   "source": [
    "X = data['X']\n",
    "y = data['y']\n",
    "y = pd.Series(np.where(y > 0, 1, 0), name='target', index = X.index)\n",
    "X_new = data['test_data'].to_frame().T\n",
    "print(X.shape, y.shape, X_new.shape)"
   ]
  },
  {
   "cell_type": "code",
   "execution_count": 15,
   "id": "e2086417",
   "metadata": {},
   "outputs": [
    {
     "name": "stderr",
     "output_type": "stream",
     "text": [
      "2025-05-03 16:43:23,432 - clda - INFO - ClassificationModel initialized with X shape: (553, 43)\n"
     ]
    }
   ],
   "source": [
    "# Initialize and run the model\n",
    "model = ClassificationModel(\n",
    "    X=X,\n",
    "    y=y,\n",
    "    numerical_cols=X.columns.tolist(),\n",
    "    verbose = 0, \n",
    "    time_series=True\n",
    ")"
   ]
  },
  {
   "cell_type": "code",
   "execution_count": 16,
   "id": "d6031f48",
   "metadata": {},
   "outputs": [
    {
     "name": "stderr",
     "output_type": "stream",
     "text": [
      "2025-05-03 16:43:23,801 - clda - INFO - Starting data preprocessing\n",
      "2025-05-03 16:43:24,523 - clda - INFO - PCA data preparation completed with 3 components\n",
      "2025-05-03 16:43:24,529 - clda - INFO - Data preprocessing completed. Training set shape: (387, 43)\n",
      "2025-05-03 16:43:24,854 - clda - INFO - Evaluating LDA\n",
      "2025-05-03 16:43:24,860 - clda - INFO - LDA evaluation completed. Accuracy: 0.596, F1 Score: 0.737\n",
      "2025-05-03 16:43:25,060 - clda - INFO - Evaluating QDA\n",
      "2025-05-03 16:43:25,317 - clda - INFO - QDA evaluation completed. Accuracy: 0.530, F1 Score: 0.680\n",
      "2025-05-03 16:43:25,326 - clda - INFO - Evaluating Naive Bayes\n",
      "2025-05-03 16:43:25,337 - clda - INFO - Naive Bayes evaluation completed. Accuracy: 0.566, F1 Score: 0.719\n",
      "2025-05-03 16:43:25,835 - clda - INFO - Best KNN neighbors: 3\n",
      "2025-05-03 16:43:25,836 - clda - INFO - Evaluating KNN\n",
      "2025-05-03 16:43:25,861 - clda - INFO - KNN evaluation completed. Accuracy: 0.482, F1 Score: 0.590\n",
      "2025-05-03 16:43:26,183 - clda - INFO - Best PCA KNN neighbors: 5\n",
      "2025-05-03 16:43:26,184 - clda - INFO - Evaluating PCA KNN\n",
      "2025-05-03 16:43:26,198 - clda - INFO - PCA KNN evaluation completed. Accuracy: 0.542, F1 Score: 0.624\n",
      "2025-05-03 16:43:27,715 - clda - INFO - Evaluating Logistic Regression\n",
      "2025-05-03 16:43:27,759 - clda - INFO - Logistic Regression evaluation completed. Accuracy: 0.536, F1 Score: 0.672\n",
      "2025-05-03 16:43:28,931 - clda - INFO - Evaluating Neural Network\n",
      "2025-05-03 16:43:28,937 - clda - INFO - Neural Network evaluation completed. Accuracy: 0.518, F1 Score: 0.626\n",
      "2025-05-03 16:43:28,937 - clda - INFO - All models trained successfully\n"
     ]
    }
   ],
   "source": [
    "model.preprocess_data()\n",
    "model.train_models()\n"
   ]
  },
  {
   "cell_type": "code",
   "execution_count": 17,
   "id": "583e877a",
   "metadata": {},
   "outputs": [
    {
     "name": "stdout",
     "output_type": "stream",
     "text": [
      "\n",
      "Model Performance Results:\n",
      "                     Accuracy Precision  F1 Score Sensitivity Specificity\n",
      "LDA                  0.596386  0.591195  0.737255    0.979167    0.071429\n",
      "QDA                   0.53012  0.560811  0.680328    0.864583    0.071429\n",
      "Naive Bayes          0.566265     0.575   0.71875    0.958333    0.028571\n",
      "KNN                  0.481928   0.54386  0.590476    0.645833    0.257143\n",
      "PCA KNN              0.542169   0.59434  0.623762     0.65625    0.385714\n",
      "Logistic Regression  0.536145  0.568345   0.67234    0.822917    0.142857\n",
      "Neural Network       0.518072  0.567797  0.626168    0.697917    0.271429\n"
     ]
    }
   ],
   "source": [
    "# Display results\n",
    "results = model.get_results()\n",
    "print(\"\\nModel Performance Results:\")\n",
    "print(results)\n"
   ]
  },
  {
   "cell_type": "code",
   "execution_count": 18,
   "id": "58d8726e",
   "metadata": {},
   "outputs": [
    {
     "name": "stderr",
     "output_type": "stream",
     "text": [
      "2025-05-03 16:43:28,957 - clda - INFO - Predicting on new data with shape: (1, 43)\n",
      "2025-05-03 16:43:28,985 - clda - INFO - Predictions generated for 1 samples\n"
     ]
    },
    {
     "data": {
      "text/html": [
       "<div>\n",
       "<style scoped>\n",
       "    .dataframe tbody tr th:only-of-type {\n",
       "        vertical-align: middle;\n",
       "    }\n",
       "\n",
       "    .dataframe tbody tr th {\n",
       "        vertical-align: top;\n",
       "    }\n",
       "\n",
       "    .dataframe thead th {\n",
       "        text-align: right;\n",
       "    }\n",
       "</style>\n",
       "<table border=\"1\" class=\"dataframe\">\n",
       "  <thead>\n",
       "    <tr style=\"text-align: right;\">\n",
       "      <th></th>\n",
       "      <th>LDA</th>\n",
       "      <th>QDA</th>\n",
       "      <th>Naive Bayes</th>\n",
       "      <th>KNN</th>\n",
       "      <th>PCA KNN</th>\n",
       "      <th>Logistic Regression</th>\n",
       "      <th>Neural Network</th>\n",
       "    </tr>\n",
       "  </thead>\n",
       "  <tbody>\n",
       "    <tr>\n",
       "      <th>2025-05-02</th>\n",
       "      <td>1</td>\n",
       "      <td>1</td>\n",
       "      <td>1</td>\n",
       "      <td>1</td>\n",
       "      <td>1</td>\n",
       "      <td>1</td>\n",
       "      <td>1</td>\n",
       "    </tr>\n",
       "  </tbody>\n",
       "</table>\n",
       "</div>"
      ],
      "text/plain": [
       "            LDA  QDA  Naive Bayes  KNN  PCA KNN  Logistic Regression  \\\n",
       "2025-05-02    1    1            1    1        1                    1   \n",
       "\n",
       "            Neural Network  \n",
       "2025-05-02               1  "
      ]
     },
     "execution_count": 18,
     "metadata": {},
     "output_type": "execute_result"
    }
   ],
   "source": [
    "model.predict_new_data(X_new)"
   ]
  },
  {
   "cell_type": "code",
   "execution_count": 21,
   "id": "a727883e",
   "metadata": {},
   "outputs": [
    {
     "data": {
      "text/plain": [
       "dict_keys(['LDA', 'QDA', 'Naive Bayes', 'KNN', 'PCA KNN', 'Logistic Regression', 'Neural Network'])"
      ]
     },
     "execution_count": 21,
     "metadata": {},
     "output_type": "execute_result"
    }
   ],
   "source": [
    "model.models.keys()"
   ]
  },
  {
   "cell_type": "code",
   "execution_count": 33,
   "id": "963de528",
   "metadata": {},
   "outputs": [],
   "source": [
    "o = {}\n",
    "for x in model.models.keys():\n",
    "    preds = model.model_predictions[x]\n",
    "    orders = encode_orders(predictions = preds.values, test_index=preds.index, stock = 'spy', shares = 10, name = x)\n",
    "    o[x] = orders\n",
    "\n",
    "orders = []; names = []\n",
    "for x in o.keys():\n",
    "    orders.append(o[x])\n",
    "    names.append(x)"
   ]
  },
  {
   "cell_type": "code",
   "execution_count": 34,
   "id": "c081bc24",
   "metadata": {},
   "outputs": [
    {
     "name": "stderr",
     "output_type": "stream",
     "text": [
      "2025-05-03 16:48:15,384 - backtest.dbm - INFO - DBManager initialized with connections: dict_keys(['bonds_db', 'daily_db', 'intraday_db', 'ticker_path', 'inactive_db', 'backup_db', 'tracking_values_db', 'tracking_db', 'stats_db', 'vol_db', 'vol2_db', 'change_db', 'option_db', 'options_stat', 'dates_db', 'earnings_dict', 'stock_names', 'stock_info_dict', 'earnings_calendar', 'pics']) and pool size: 5\n",
      "2025-05-03 16:48:15,386 - backtest.simulator - INFO - MarketSim initialized with verbose=False\n",
      "2025-05-03 16:48:15,387 - backtest.dbm - INFO - DBManager object is being destroyed; closing all connections\n",
      "2025-05-03 16:48:15,387 - backtest.dbm - INFO - All connections cleared\n"
     ]
    }
   ],
   "source": [
    "from backtest.strategies import Policy \n",
    "\n",
    "p = Policy(get_path('../../../'))"
   ]
  },
  {
   "cell_type": "code",
   "execution_count": 35,
   "id": "4fb4b810",
   "metadata": {},
   "outputs": [
    {
     "name": "stderr",
     "output_type": "stream",
     "text": [
      "2025-05-03 16:49:01,149 - backtest.dbm - INFO - Created new connection for database: daily_db\n",
      "2025-05-03 16:49:01,217 - backtest.dbm - INFO - Created new connection for database: daily_db\n",
      "2025-05-03 16:49:01,301 - backtest.simulator - INFO - Portfolio value computation completed, final value: $10,136.44\n",
      "2025-05-03 16:49:01,303 - backtest.dbm - INFO - Created new connection for database: daily_db\n",
      "2025-05-03 16:49:01,313 - backtest.dbm - INFO - Created new connection for database: daily_db\n",
      "2025-05-03 16:49:01,716 - backtest.simulator - INFO - Portfolio value computation completed, final value: $10,111.96\n",
      "2025-05-03 16:49:01,724 - backtest.dbm - INFO - Created new connection for database: daily_db\n",
      "2025-05-03 16:49:01,739 - backtest.dbm - INFO - Created new connection for database: daily_db\n",
      "2025-05-03 16:49:01,814 - backtest.simulator - INFO - Portfolio value computation completed, final value: $10,111.96\n",
      "2025-05-03 16:49:01,816 - backtest.dbm - INFO - Created new connection for database: daily_db\n",
      "2025-05-03 16:49:01,825 - backtest.dbm - INFO - Created new connection for database: daily_db\n",
      "2025-05-03 16:49:01,901 - backtest.simulator - INFO - Portfolio value computation completed, final value: $10,111.96\n",
      "2025-05-03 16:49:01,902 - backtest.dbm - INFO - Created new connection for database: daily_db\n",
      "2025-05-03 16:49:01,912 - backtest.dbm - INFO - Created new connection for database: daily_db\n",
      "2025-05-03 16:49:01,990 - backtest.simulator - INFO - Portfolio value computation completed, final value: $10,228.12\n",
      "2025-05-03 16:49:01,991 - backtest.dbm - INFO - Created new connection for database: daily_db\n",
      "2025-05-03 16:49:02,001 - backtest.dbm - INFO - Created new connection for database: daily_db\n",
      "2025-05-03 16:49:02,081 - backtest.simulator - INFO - Portfolio value computation completed, final value: $10,136.44\n",
      "2025-05-03 16:49:02,083 - backtest.dbm - INFO - Created new connection for database: daily_db\n",
      "2025-05-03 16:49:02,093 - backtest.dbm - INFO - Created new connection for database: daily_db\n",
      "2025-05-03 16:49:02,171 - backtest.simulator - INFO - Portfolio value computation completed, final value: $10,111.96\n",
      "2025-05-03 16:49:02,174 - backtest.dbm - INFO - Created new connection for database: daily_db\n",
      "2025-05-03 16:49:02,253 - backtest.simulator - INFO - Portfolio value computation completed, final value: $10,208.25\n",
      "2025-05-03 16:49:02,259 - backtest.dbm - INFO - Created new connection for database: daily_db\n",
      "2025-05-03 16:49:02,435 - backtest.simulator - INFO - Portfolio value computation completed, final value: $14,069.04\n"
     ]
    }
   ],
   "source": [
    "res = p.eval_multiple_orders(\n",
    "    orders = orders,\n",
    "    names = names, \n",
    "    sv = 10000, \n",
    "    commission = 1.0, \n",
    "    impact = 0.0005\n",
    ")"
   ]
  },
  {
   "cell_type": "code",
   "execution_count": 37,
   "id": "1f1b47fd",
   "metadata": {},
   "outputs": [
    {
     "data": {
      "text/html": [
       "<div>\n",
       "<style scoped>\n",
       "    .dataframe tbody tr th:only-of-type {\n",
       "        vertical-align: middle;\n",
       "    }\n",
       "\n",
       "    .dataframe tbody tr th {\n",
       "        vertical-align: top;\n",
       "    }\n",
       "\n",
       "    .dataframe thead th {\n",
       "        text-align: right;\n",
       "    }\n",
       "</style>\n",
       "<table border=\"1\" class=\"dataframe\">\n",
       "  <thead>\n",
       "    <tr style=\"text-align: right;\">\n",
       "      <th></th>\n",
       "      <th>Stock</th>\n",
       "      <th>Days</th>\n",
       "      <th>StartDate</th>\n",
       "      <th>EndDate</th>\n",
       "      <th>StartBalance</th>\n",
       "      <th>EndBalance</th>\n",
       "      <th>Return</th>\n",
       "      <th>Commission</th>\n",
       "      <th>Impact</th>\n",
       "    </tr>\n",
       "  </thead>\n",
       "  <tbody>\n",
       "    <tr>\n",
       "      <th>LDA</th>\n",
       "      <td>spy</td>\n",
       "      <td>166.00</td>\n",
       "      <td>2024-09-03</td>\n",
       "      <td>2025-05-01</td>\n",
       "      <td>10,000.00</td>\n",
       "      <td>10,136.44</td>\n",
       "      <td>1.36</td>\n",
       "      <td>1.00</td>\n",
       "      <td>0.00</td>\n",
       "    </tr>\n",
       "    <tr>\n",
       "      <th>QDA</th>\n",
       "      <td>spy</td>\n",
       "      <td>166.00</td>\n",
       "      <td>2024-09-03</td>\n",
       "      <td>2025-05-01</td>\n",
       "      <td>10,000.00</td>\n",
       "      <td>10,111.96</td>\n",
       "      <td>1.12</td>\n",
       "      <td>1.00</td>\n",
       "      <td>0.00</td>\n",
       "    </tr>\n",
       "    <tr>\n",
       "      <th>Naive Bayes</th>\n",
       "      <td>spy</td>\n",
       "      <td>166.00</td>\n",
       "      <td>2024-09-03</td>\n",
       "      <td>2025-05-01</td>\n",
       "      <td>10,000.00</td>\n",
       "      <td>10,111.96</td>\n",
       "      <td>1.12</td>\n",
       "      <td>1.00</td>\n",
       "      <td>0.00</td>\n",
       "    </tr>\n",
       "    <tr>\n",
       "      <th>KNN</th>\n",
       "      <td>spy</td>\n",
       "      <td>166.00</td>\n",
       "      <td>2024-09-03</td>\n",
       "      <td>2025-05-01</td>\n",
       "      <td>10,000.00</td>\n",
       "      <td>10,111.96</td>\n",
       "      <td>1.12</td>\n",
       "      <td>1.00</td>\n",
       "      <td>0.00</td>\n",
       "    </tr>\n",
       "    <tr>\n",
       "      <th>PCA KNN</th>\n",
       "      <td>spy</td>\n",
       "      <td>166.00</td>\n",
       "      <td>2024-09-03</td>\n",
       "      <td>2025-05-01</td>\n",
       "      <td>10,000.00</td>\n",
       "      <td>10,228.12</td>\n",
       "      <td>2.28</td>\n",
       "      <td>1.00</td>\n",
       "      <td>0.00</td>\n",
       "    </tr>\n",
       "    <tr>\n",
       "      <th>Logistic Regression</th>\n",
       "      <td>spy</td>\n",
       "      <td>166.00</td>\n",
       "      <td>2024-09-03</td>\n",
       "      <td>2025-05-01</td>\n",
       "      <td>10,000.00</td>\n",
       "      <td>10,136.44</td>\n",
       "      <td>1.36</td>\n",
       "      <td>1.00</td>\n",
       "      <td>0.00</td>\n",
       "    </tr>\n",
       "    <tr>\n",
       "      <th>Neural Network</th>\n",
       "      <td>spy</td>\n",
       "      <td>166.00</td>\n",
       "      <td>2024-09-03</td>\n",
       "      <td>2025-05-01</td>\n",
       "      <td>10,000.00</td>\n",
       "      <td>10,111.96</td>\n",
       "      <td>1.12</td>\n",
       "      <td>1.00</td>\n",
       "      <td>0.00</td>\n",
       "    </tr>\n",
       "    <tr>\n",
       "      <th>Buy and Hold</th>\n",
       "      <td>spy</td>\n",
       "      <td>166.00</td>\n",
       "      <td>2024-09-03</td>\n",
       "      <td>2025-05-01</td>\n",
       "      <td>10,000.00</td>\n",
       "      <td>10,208.25</td>\n",
       "      <td>2.08</td>\n",
       "      <td>0.00</td>\n",
       "      <td>0.00</td>\n",
       "    </tr>\n",
       "    <tr>\n",
       "      <th>Optimal Policy</th>\n",
       "      <td>spy</td>\n",
       "      <td>166.00</td>\n",
       "      <td>2024-09-03</td>\n",
       "      <td>2025-05-01</td>\n",
       "      <td>10,000.00</td>\n",
       "      <td>14,069.04</td>\n",
       "      <td>40.69</td>\n",
       "      <td>0.00</td>\n",
       "      <td>0.00</td>\n",
       "    </tr>\n",
       "  </tbody>\n",
       "</table>\n",
       "</div>"
      ],
      "text/plain": [
       "                    Stock    Days   StartDate     EndDate StartBalance  \\\n",
       "LDA                   spy  166.00  2024-09-03  2025-05-01    10,000.00   \n",
       "QDA                   spy  166.00  2024-09-03  2025-05-01    10,000.00   \n",
       "Naive Bayes           spy  166.00  2024-09-03  2025-05-01    10,000.00   \n",
       "KNN                   spy  166.00  2024-09-03  2025-05-01    10,000.00   \n",
       "PCA KNN               spy  166.00  2024-09-03  2025-05-01    10,000.00   \n",
       "Logistic Regression   spy  166.00  2024-09-03  2025-05-01    10,000.00   \n",
       "Neural Network        spy  166.00  2024-09-03  2025-05-01    10,000.00   \n",
       "Buy and Hold          spy  166.00  2024-09-03  2025-05-01    10,000.00   \n",
       "Optimal Policy        spy  166.00  2024-09-03  2025-05-01    10,000.00   \n",
       "\n",
       "                    EndBalance Return Commission Impact  \n",
       "LDA                  10,136.44   1.36       1.00   0.00  \n",
       "QDA                  10,111.96   1.12       1.00   0.00  \n",
       "Naive Bayes          10,111.96   1.12       1.00   0.00  \n",
       "KNN                  10,111.96   1.12       1.00   0.00  \n",
       "PCA KNN              10,228.12   2.28       1.00   0.00  \n",
       "Logistic Regression  10,136.44   1.36       1.00   0.00  \n",
       "Neural Network       10,111.96   1.12       1.00   0.00  \n",
       "Buy and Hold         10,208.25   2.08       0.00   0.00  \n",
       "Optimal Policy       14,069.04  40.69       0.00   0.00  "
      ]
     },
     "metadata": {},
     "output_type": "display_data"
    }
   ],
   "source": [
    "from bin.utils.tools import pretty_print\n",
    "\n",
    "pretty_print(res)"
   ]
  },
  {
   "cell_type": "code",
   "execution_count": 39,
   "id": "9d2a0ceb",
   "metadata": {},
   "outputs": [
    {
     "data": {
      "text/html": [
       "<div>\n",
       "<style scoped>\n",
       "    .dataframe tbody tr th:only-of-type {\n",
       "        vertical-align: middle;\n",
       "    }\n",
       "\n",
       "    .dataframe tbody tr th {\n",
       "        vertical-align: top;\n",
       "    }\n",
       "\n",
       "    .dataframe thead th {\n",
       "        text-align: right;\n",
       "    }\n",
       "</style>\n",
       "<table border=\"1\" class=\"dataframe\">\n",
       "  <thead>\n",
       "    <tr style=\"text-align: right;\">\n",
       "      <th></th>\n",
       "      <th>Open</th>\n",
       "      <th>High</th>\n",
       "      <th>Low</th>\n",
       "      <th>Close</th>\n",
       "      <th>Volume</th>\n",
       "    </tr>\n",
       "    <tr>\n",
       "      <th>Date</th>\n",
       "      <th></th>\n",
       "      <th></th>\n",
       "      <th></th>\n",
       "      <th></th>\n",
       "      <th></th>\n",
       "    </tr>\n",
       "  </thead>\n",
       "  <tbody>\n",
       "    <tr>\n",
       "      <th>2024-09-03</th>\n",
       "      <td>555.211691</td>\n",
       "      <td>555.548528</td>\n",
       "      <td>544.354556</td>\n",
       "      <td>546.900452</td>\n",
       "      <td>60600100.0</td>\n",
       "    </tr>\n",
       "    <tr>\n",
       "      <th>2024-09-04</th>\n",
       "      <td>545.038042</td>\n",
       "      <td>549.228337</td>\n",
       "      <td>544.304995</td>\n",
       "      <td>545.781006</td>\n",
       "      <td>47224900.0</td>\n",
       "    </tr>\n",
       "    <tr>\n",
       "      <th>2024-09-05</th>\n",
       "      <td>545.721572</td>\n",
       "      <td>548.604244</td>\n",
       "      <td>541.967091</td>\n",
       "      <td>544.453552</td>\n",
       "      <td>44264300.0</td>\n",
       "    </tr>\n",
       "    <tr>\n",
       "      <th>2024-09-06</th>\n",
       "      <td>544.780420</td>\n",
       "      <td>546.424819</td>\n",
       "      <td>534.378932</td>\n",
       "      <td>535.290283</td>\n",
       "      <td>68493800.0</td>\n",
       "    </tr>\n",
       "    <tr>\n",
       "      <th>2024-09-09</th>\n",
       "      <td>539.540072</td>\n",
       "      <td>542.571360</td>\n",
       "      <td>537.588523</td>\n",
       "      <td>541.283508</td>\n",
       "      <td>40445800.0</td>\n",
       "    </tr>\n",
       "    <tr>\n",
       "      <th>...</th>\n",
       "      <td>...</td>\n",
       "      <td>...</td>\n",
       "      <td>...</td>\n",
       "      <td>...</td>\n",
       "      <td>...</td>\n",
       "    </tr>\n",
       "    <tr>\n",
       "      <th>2025-04-28</th>\n",
       "      <td>551.390015</td>\n",
       "      <td>553.549988</td>\n",
       "      <td>545.020020</td>\n",
       "      <td>550.849976</td>\n",
       "      <td>47613800.0</td>\n",
       "    </tr>\n",
       "    <tr>\n",
       "      <th>2025-04-29</th>\n",
       "      <td>548.909973</td>\n",
       "      <td>555.450012</td>\n",
       "      <td>548.549988</td>\n",
       "      <td>554.320007</td>\n",
       "      <td>47775100.0</td>\n",
       "    </tr>\n",
       "    <tr>\n",
       "      <th>2025-04-30</th>\n",
       "      <td>547.570007</td>\n",
       "      <td>556.520020</td>\n",
       "      <td>541.520020</td>\n",
       "      <td>554.539978</td>\n",
       "      <td>93101500.0</td>\n",
       "    </tr>\n",
       "    <tr>\n",
       "      <th>2025-05-01</th>\n",
       "      <td>560.369995</td>\n",
       "      <td>564.070007</td>\n",
       "      <td>557.859985</td>\n",
       "      <td>558.469971</td>\n",
       "      <td>62921700.0</td>\n",
       "    </tr>\n",
       "    <tr>\n",
       "      <th>2025-05-02</th>\n",
       "      <td>564.729980</td>\n",
       "      <td>568.079590</td>\n",
       "      <td>562.380005</td>\n",
       "      <td>567.809875</td>\n",
       "      <td>33548535.0</td>\n",
       "    </tr>\n",
       "  </tbody>\n",
       "</table>\n",
       "<p>167 rows × 5 columns</p>\n",
       "</div>"
      ],
      "text/plain": [
       "                  Open        High         Low       Close      Volume\n",
       "Date                                                                  \n",
       "2024-09-03  555.211691  555.548528  544.354556  546.900452  60600100.0\n",
       "2024-09-04  545.038042  549.228337  544.304995  545.781006  47224900.0\n",
       "2024-09-05  545.721572  548.604244  541.967091  544.453552  44264300.0\n",
       "2024-09-06  544.780420  546.424819  534.378932  535.290283  68493800.0\n",
       "2024-09-09  539.540072  542.571360  537.588523  541.283508  40445800.0\n",
       "...                ...         ...         ...         ...         ...\n",
       "2025-04-28  551.390015  553.549988  545.020020  550.849976  47613800.0\n",
       "2025-04-29  548.909973  555.450012  548.549988  554.320007  47775100.0\n",
       "2025-04-30  547.570007  556.520020  541.520020  554.539978  93101500.0\n",
       "2025-05-01  560.369995  564.070007  557.859985  558.469971  62921700.0\n",
       "2025-05-02  564.729980  568.079590  562.380005  567.809875  33548535.0\n",
       "\n",
       "[167 rows x 5 columns]"
      ]
     },
     "execution_count": 39,
     "metadata": {},
     "output_type": "execute_result"
    }
   ],
   "source": [
    "m.Pricedb.ohlc('spy', daily = True, start = \"2024-09-03\")"
   ]
  },
  {
   "cell_type": "code",
   "execution_count": null,
   "id": "56b36833",
   "metadata": {},
   "outputs": [],
   "source": []
  }
 ],
 "metadata": {
  "kernelspec": {
   "display_name": "ds24",
   "language": "python",
   "name": "python3"
  },
  "language_info": {
   "codemirror_mode": {
    "name": "ipython",
    "version": 3
   },
   "file_extension": ".py",
   "mimetype": "text/x-python",
   "name": "python",
   "nbconvert_exporter": "python",
   "pygments_lexer": "ipython3",
   "version": "3.12.1"
  }
 },
 "nbformat": 4,
 "nbformat_minor": 5
}
