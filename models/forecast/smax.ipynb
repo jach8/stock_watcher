{
 "cells": [
  {
   "cell_type": "code",
   "execution_count": 2,
   "id": "0b2603bc",
   "metadata": {},
   "outputs": [
    {
     "name": "stderr",
     "output_type": "stream",
     "text": [
      "2025-04-28 21:28:56,753 - bin.options.optgd.db_connect - INFO - Options DB Initialized\n",
      "2025-04-28 21:28:56,753 - bin.options.optgd.db_connect - WARNING - You currently have 8 connections open.\n",
      "2025-04-28 21:28:56,756 - INFO - PriceDB Initialized successfully at 2025-04-28 21:28:56.756453\n",
      "2025-04-28 21:28:56,756 - bin.price.db_connect - INFO - PriceDB Initialized successfully at 2025-04-28 21:28:56.756453\n",
      "2025-04-28 21:28:56,756 - INFO - Established 3 database connections\n",
      "2025-04-28 21:28:56,756 - bin.price.db_connect - INFO - Established 3 database connections\n",
      "2025-04-28 21:28:56,842 - bin.alerts.options_alerts - INFO - Notifications instance initialized.\n"
     ]
    }
   ],
   "source": [
    "import sys\n",
    "sys.path.append('../../../')\n",
    "\n",
    "from bin.main import get_path\n",
    "from main import Manager \n",
    "\n",
    "connections = get_path('../../../')\n",
    "manager = Manager(connections)"
   ]
  },
  {
   "cell_type": "code",
   "execution_count": 4,
   "id": "2688eee4",
   "metadata": {},
   "outputs": [],
   "source": [
    "close_prices = manager.Pricedb.ohlc('spy')['Close'].to_frame()"
   ]
  },
  {
   "cell_type": "code",
   "execution_count": null,
   "id": "f7f8e4b3",
   "metadata": {},
   "outputs": [],
   "source": [
    "\"\"\" Wrapper for Sarimax Model from Statsmodels API \"\"\"\n",
    "\n",
    "import pandas as pd \n",
    "import numpy as np \n",
    "import statsmodels.api as sm\n",
    "from statsmodels.tsa.statespace.sarimax import SARIMAX\n",
    "from typing import Tuple, Dict, Any\n",
    "from abc import ABC, abstractmethod\n",
    "from dataclasses import dataclass"
   ]
  },
  {
   "cell_type": "code",
   "execution_count": 14,
   "id": "3ec860c6",
   "metadata": {},
   "outputs": [
    {
     "name": "stdout",
     "output_type": "stream",
     "text": [
      "RUNNING THE L-BFGS-B CODE\n",
      "\n",
      "           * * *\n",
      "\n",
      "Machine precision = 2.220D-16\n",
      " N =            6     M =           10\n",
      "\n",
      "At X0         0 variables are exactly at the bounds\n",
      "\n",
      "At iterate    0    f=  6.06703D+00    |proj g|=  7.59399D+00\n"
     ]
    },
    {
     "name": "stderr",
     "output_type": "stream",
     "text": [
      " This problem is unconstrained.\n"
     ]
    },
    {
     "name": "stdout",
     "output_type": "stream",
     "text": [
      "\n",
      "At iterate    5    f=  2.34114D+00    |proj g|=  5.23674D-02\n",
      "\n",
      "At iterate   10    f=  2.28015D+00    |proj g|=  2.78856D-02\n",
      "\n",
      "At iterate   15    f=  2.26301D+00    |proj g|=  4.55446D-02\n",
      "\n",
      "At iterate   20    f=  2.26186D+00    |proj g|=  8.03566D-03\n",
      "\n",
      "At iterate   25    f=  2.26186D+00    |proj g|=  3.99780D-04\n",
      "\n",
      "At iterate   30    f=  2.26186D+00    |proj g|=  1.50178D-04\n",
      "\n",
      "           * * *\n",
      "\n",
      "Tit   = total number of iterations\n",
      "Tnf   = total number of function evaluations\n",
      "Tnint = total number of segments explored during Cauchy searches\n",
      "Skip  = number of BFGS updates skipped\n",
      "Nact  = number of active bounds at final generalized Cauchy point\n",
      "Projg = norm of the final projected gradient\n",
      "F     = final function value\n",
      "\n",
      "           * * *\n",
      "\n",
      "   N    Tit     Tnf  Tnint  Skip  Nact     Projg        F\n",
      "    6     30     41      1     0     0   1.502D-04   2.262D+00\n",
      "  F =   2.2618628575710402     \n",
      "\n",
      "CONVERGENCE: REL_REDUCTION_OF_F_<=_FACTR*EPSMCH             \n"
     ]
    }
   ],
   "source": [
    "model = SARIMAX(\n",
    "    endog=close_prices,\n",
    "    order=(1, 1, 1),\n",
    "    seasonal_order=(1, 1, 1, 12),\n",
    "    trend='c'\n",
    ").fit()"
   ]
  },
  {
   "cell_type": "code",
   "execution_count": null,
   "id": "f8c53730",
   "metadata": {},
   "outputs": [],
   "source": []
  }
 ],
 "metadata": {
  "kernelspec": {
   "display_name": "ds24",
   "language": "python",
   "name": "python3"
  },
  "language_info": {
   "codemirror_mode": {
    "name": "ipython",
    "version": 3
   },
   "file_extension": ".py",
   "mimetype": "text/x-python",
   "name": "python",
   "nbconvert_exporter": "python",
   "pygments_lexer": "ipython3",
   "version": "3.12.1"
  }
 },
 "nbformat": 4,
 "nbformat_minor": 5
}
